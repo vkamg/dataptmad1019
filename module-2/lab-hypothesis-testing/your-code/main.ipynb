{
 "cells": [
  {
   "cell_type": "markdown",
   "metadata": {},
   "source": [
    "# Before your start:\n",
    "- Read the README.md file\n",
    "- Comment as much as you can and use the resources (README.md file)\n",
    "- Happy learning!"
   ]
  },
  {
   "cell_type": "code",
   "execution_count": 1,
   "metadata": {},
   "outputs": [],
   "source": [
    "# import numpy and pandas\n",
    "import numpy as np\n",
    "import pandas as pd"
   ]
  },
  {
   "cell_type": "markdown",
   "metadata": {},
   "source": [
    "# Challenge 1 - Exploring the Data\n",
    "\n",
    "In this challenge, we will examine all salaries of employees of the City of Chicago. We will start by loading the dataset and examining its contents"
   ]
  },
  {
   "cell_type": "code",
   "execution_count": 2,
   "metadata": {},
   "outputs": [],
   "source": [
    "# Run this code:\n",
    "\n",
    "salaries = pd.read_csv('../Current_Employee_Names__Salaries__and_Position_Titles.csv')"
   ]
  },
  {
   "cell_type": "markdown",
   "metadata": {},
   "source": [
    "Examine the `salaries` dataset using the `head` function below."
   ]
  },
  {
   "cell_type": "code",
   "execution_count": 3,
   "metadata": {},
   "outputs": [
    {
     "data": {
      "text/html": [
       "<div>\n",
       "<style scoped>\n",
       "    .dataframe tbody tr th:only-of-type {\n",
       "        vertical-align: middle;\n",
       "    }\n",
       "\n",
       "    .dataframe tbody tr th {\n",
       "        vertical-align: top;\n",
       "    }\n",
       "\n",
       "    .dataframe thead th {\n",
       "        text-align: right;\n",
       "    }\n",
       "</style>\n",
       "<table border=\"1\" class=\"dataframe\">\n",
       "  <thead>\n",
       "    <tr style=\"text-align: right;\">\n",
       "      <th></th>\n",
       "      <th>Name</th>\n",
       "      <th>Job Titles</th>\n",
       "      <th>Department</th>\n",
       "      <th>Full or Part-Time</th>\n",
       "      <th>Salary or Hourly</th>\n",
       "      <th>Typical Hours</th>\n",
       "      <th>Annual Salary</th>\n",
       "      <th>Hourly Rate</th>\n",
       "    </tr>\n",
       "  </thead>\n",
       "  <tbody>\n",
       "    <tr>\n",
       "      <th>0</th>\n",
       "      <td>AARON,  JEFFERY M</td>\n",
       "      <td>SERGEANT</td>\n",
       "      <td>POLICE</td>\n",
       "      <td>F</td>\n",
       "      <td>Salary</td>\n",
       "      <td>NaN</td>\n",
       "      <td>101442.0</td>\n",
       "      <td>NaN</td>\n",
       "    </tr>\n",
       "    <tr>\n",
       "      <th>1</th>\n",
       "      <td>AARON,  KARINA</td>\n",
       "      <td>POLICE OFFICER (ASSIGNED AS DETECTIVE)</td>\n",
       "      <td>POLICE</td>\n",
       "      <td>F</td>\n",
       "      <td>Salary</td>\n",
       "      <td>NaN</td>\n",
       "      <td>94122.0</td>\n",
       "      <td>NaN</td>\n",
       "    </tr>\n",
       "    <tr>\n",
       "      <th>2</th>\n",
       "      <td>AARON,  KIMBERLEI R</td>\n",
       "      <td>CHIEF CONTRACT EXPEDITER</td>\n",
       "      <td>GENERAL SERVICES</td>\n",
       "      <td>F</td>\n",
       "      <td>Salary</td>\n",
       "      <td>NaN</td>\n",
       "      <td>101592.0</td>\n",
       "      <td>NaN</td>\n",
       "    </tr>\n",
       "    <tr>\n",
       "      <th>3</th>\n",
       "      <td>ABAD JR,  VICENTE M</td>\n",
       "      <td>CIVIL ENGINEER IV</td>\n",
       "      <td>WATER MGMNT</td>\n",
       "      <td>F</td>\n",
       "      <td>Salary</td>\n",
       "      <td>NaN</td>\n",
       "      <td>110064.0</td>\n",
       "      <td>NaN</td>\n",
       "    </tr>\n",
       "    <tr>\n",
       "      <th>4</th>\n",
       "      <td>ABASCAL,  REECE E</td>\n",
       "      <td>TRAFFIC CONTROL AIDE-HOURLY</td>\n",
       "      <td>OEMC</td>\n",
       "      <td>P</td>\n",
       "      <td>Hourly</td>\n",
       "      <td>20.0</td>\n",
       "      <td>NaN</td>\n",
       "      <td>19.86</td>\n",
       "    </tr>\n",
       "  </tbody>\n",
       "</table>\n",
       "</div>"
      ],
      "text/plain": [
       "                  Name                              Job Titles  \\\n",
       "0    AARON,  JEFFERY M                                SERGEANT   \n",
       "1      AARON,  KARINA   POLICE OFFICER (ASSIGNED AS DETECTIVE)   \n",
       "2  AARON,  KIMBERLEI R                CHIEF CONTRACT EXPEDITER   \n",
       "3  ABAD JR,  VICENTE M                       CIVIL ENGINEER IV   \n",
       "4    ABASCAL,  REECE E             TRAFFIC CONTROL AIDE-HOURLY   \n",
       "\n",
       "         Department Full or Part-Time Salary or Hourly  Typical Hours  \\\n",
       "0            POLICE                 F           Salary            NaN   \n",
       "1            POLICE                 F           Salary            NaN   \n",
       "2  GENERAL SERVICES                 F           Salary            NaN   \n",
       "3       WATER MGMNT                 F           Salary            NaN   \n",
       "4              OEMC                 P           Hourly           20.0   \n",
       "\n",
       "   Annual Salary  Hourly Rate  \n",
       "0       101442.0          NaN  \n",
       "1        94122.0          NaN  \n",
       "2       101592.0          NaN  \n",
       "3       110064.0          NaN  \n",
       "4            NaN        19.86  "
      ]
     },
     "execution_count": 3,
     "metadata": {},
     "output_type": "execute_result"
    }
   ],
   "source": [
    "# Your code here:\n",
    "salaries.head()"
   ]
  },
  {
   "cell_type": "markdown",
   "metadata": {},
   "source": [
    "We see from looking at the `head` function that there is quite a bit of missing data. Let's examine how much missing data is in each column. Produce this output in the cell below"
   ]
  },
  {
   "cell_type": "code",
   "execution_count": 4,
   "metadata": {},
   "outputs": [
    {
     "data": {
      "text/plain": [
       "Name                  0.000000\n",
       "Job Titles            0.000000\n",
       "Department            0.000000\n",
       "Full or Part-Time     0.000000\n",
       "Salary or Hourly      0.000000\n",
       "Typical Hours        75.824971\n",
       "Annual Salary        24.175029\n",
       "Hourly Rate          75.824971\n",
       "dtype: float64"
      ]
     },
     "execution_count": 4,
     "metadata": {},
     "output_type": "execute_result"
    }
   ],
   "source": [
    "# Your code here:\n",
    "null_cols = salaries.isnull().sum()\n",
    "\n",
    "null_cols/ len(salaries) * 100"
   ]
  },
  {
   "cell_type": "markdown",
   "metadata": {},
   "source": [
    "Let's also look at the count of hourly vs. salaried employees. Write the code in the cell below"
   ]
  },
  {
   "cell_type": "code",
   "execution_count": 5,
   "metadata": {},
   "outputs": [
    {
     "data": {
      "text/plain": [
       "Salary    25161\n",
       "Hourly     8022\n",
       "Name: Salary or Hourly, dtype: int64"
      ]
     },
     "execution_count": 5,
     "metadata": {},
     "output_type": "execute_result"
    }
   ],
   "source": [
    "# Your code here:\n",
    "\n",
    "salaries[\"Salary or Hourly\"].value_counts()"
   ]
  },
  {
   "cell_type": "markdown",
   "metadata": {},
   "source": [
    "What this information indicates is that the table contains information about two types of employees - salaried and hourly. Some columns apply only to one type of employee while other columns only apply to another kind. This is why there are so many missing values. Therefore, we will not do anything to handle the missing values."
   ]
  },
  {
   "cell_type": "markdown",
   "metadata": {},
   "source": [
    "There are different departments in the city. List all departments and the count of employees in each department."
   ]
  },
  {
   "cell_type": "code",
   "execution_count": 6,
   "metadata": {},
   "outputs": [
    {
     "data": {
      "text/plain": [
       "POLICE                   13414\n",
       "FIRE                      4641\n",
       "STREETS & SAN             2198\n",
       "OEMC                      2102\n",
       "WATER MGMNT               1879\n",
       "AVIATION                  1629\n",
       "TRANSPORTN                1140\n",
       "PUBLIC LIBRARY            1015\n",
       "GENERAL SERVICES           980\n",
       "FAMILY & SUPPORT           615\n",
       "FINANCE                    560\n",
       "HEALTH                     488\n",
       "CITY COUNCIL               411\n",
       "LAW                        407\n",
       "BUILDINGS                  269\n",
       "COMMUNITY DEVELOPMENT      207\n",
       "BUSINESS AFFAIRS           171\n",
       "COPA                       116\n",
       "BOARD OF ELECTION          107\n",
       "DoIT                        99\n",
       "PROCUREMENT                 92\n",
       "INSPECTOR GEN               87\n",
       "MAYOR'S OFFICE              85\n",
       "CITY CLERK                  84\n",
       "ANIMAL CONTRL               81\n",
       "HUMAN RESOURCES             79\n",
       "CULTURAL AFFAIRS            65\n",
       "BUDGET & MGMT               46\n",
       "ADMIN HEARNG                39\n",
       "DISABILITIES                28\n",
       "TREASURER                   22\n",
       "HUMAN RELATIONS             16\n",
       "BOARD OF ETHICS              8\n",
       "POLICE BOARD                 2\n",
       "LICENSE APPL COMM            1\n",
       "Name: Department, dtype: int64"
      ]
     },
     "execution_count": 6,
     "metadata": {},
     "output_type": "execute_result"
    }
   ],
   "source": [
    "# Your code here:\n",
    "\n",
    "salaries[\"Department\"].value_counts()"
   ]
  },
  {
   "cell_type": "markdown",
   "metadata": {},
   "source": [
    "# Challenge 2 - Hypothesis Tests\n",
    "\n",
    "In this section of the lab, we will test whether the hourly wage of all hourly workers is significantly different from $30/hr. Import the correct one sample test function from scipy and perform the hypothesis test for a 95% two sided confidence interval."
   ]
  },
  {
   "cell_type": "code",
   "execution_count": 7,
   "metadata": {},
   "outputs": [
    {
     "name": "stdout",
     "output_type": "stream",
     "text": [
      "H0 (null hypothesis): The hourly wage of all hourly workers is NOT significantly different from $30/hr. Hourly wage = $30/hr\n",
      "HA (alternative hypothesis): The hourly wage of all hourly workers is significantly different from $30/hr. Hourly wage =! $30/hr\n"
     ]
    },
    {
     "data": {
      "text/plain": [
       "0.9971663044535223"
      ]
     },
     "metadata": {},
     "output_type": "display_data"
    },
    {
     "data": {
      "text/plain": [
       "0.4237419670483028"
      ]
     },
     "metadata": {},
     "output_type": "display_data"
    },
    {
     "name": "stdout",
     "output_type": "stream",
     "text": [
      "We fail to reject the null hypothesis so no significance difference was detected.\n"
     ]
    }
   ],
   "source": [
    "# Your code here:\n",
    "from scipy.stats import t\n",
    "from scipy.stats import norm\n",
    "from scipy.stats import ttest_1samp\n",
    "\n",
    "print(\"H0 (null hypothesis): The hourly wage of all hourly workers is NOT significantly different from $30/hr. Hourly wage = $30/hr\")\n",
    "print(\"HA (alternative hypothesis): The hourly wage of all hourly workers is significantly different from $30/hr. Hourly wage =! $30/hr\")\n",
    "\n",
    "hourly_filter = salaries[\"Salary or Hourly\"] == \"Hourly\"\n",
    "sample_mean = salaries[hourly_filter][\"Hourly Rate\"].mean()\n",
    "sample_std = salaries[hourly_filter][\"Hourly Rate\"].std()\n",
    "sample_count = len(salaries[hourly_filter])\n",
    "salaries_sample = np.array([sample_mean,sample_std,sample_count])\n",
    "test_results = ttest_1samp(salaries_sample, 30)\n",
    "display(test_results.statistic)\n",
    "display(test_results.pvalue)\n",
    "\n",
    "if test_results.pvalue > 0.05:\n",
    "    print(\"We fail to reject the null hypothesis so no significance difference was detected.\")\n",
    "else:\n",
    "    print(\"We can reject the null hypothesis.\")"
   ]
  },
  {
   "cell_type": "markdown",
   "metadata": {},
   "source": [
    "We are also curious about salaries in the police force. The chief of police in Chicago claimed in a press briefing that salaries this year are higher than last year's mean of $86000/year a year for all salaried employees. Test this one sided hypothesis using a 95% confidence interval.\n",
    "\n",
    "Hint: A one tailed test has a p-value that is half of the two tailed p-value. If our hypothesis is greater than, then to reject, the test statistic must also be positive."
   ]
  },
  {
   "cell_type": "code",
   "execution_count": 8,
   "metadata": {},
   "outputs": [
    {
     "name": "stdout",
     "output_type": "stream",
     "text": [
      "H0 (null hypothesis): Police salaries <= $86000/year\n",
      "HA (alternative hypothesis): Police salaries > $86000/year\n"
     ]
    },
    {
     "name": "stderr",
     "output_type": "stream",
     "text": [
      "/home/veronica/miniconda3/envs/data_env/lib/python3.7/site-packages/ipykernel_launcher.py:7: UserWarning: Boolean Series key will be reindexed to match DataFrame index.\n",
      "  import sys\n"
     ]
    },
    {
     "data": {
      "text/plain": [
       "-1.9758298964151366"
      ]
     },
     "metadata": {},
     "output_type": "display_data"
    },
    {
     "data": {
      "text/plain": [
       "0.0934163396226846"
      ]
     },
     "metadata": {},
     "output_type": "display_data"
    },
    {
     "name": "stdout",
     "output_type": "stream",
     "text": [
      "We failed to reject the null hypothesis so we can't prove that police salaries are higher than $86000/year.\n"
     ]
    }
   ],
   "source": [
    "# Your code here:\n",
    "print(\"H0 (null hypothesis): Police salaries <= $86000/year\")\n",
    "print(\"HA (alternative hypothesis): Police salaries > $86000/year\")\n",
    "\n",
    "police_filter = salaries[\"Department\"] == \"POLICE\" \n",
    "salary_filter = salaries[\"Salary or Hourly\"] == \"Salary\"\n",
    "sample_df = salaries[police_filter][salary_filter]\n",
    "\n",
    "sample_mean = sample_df[\"Annual Salary\"].mean()\n",
    "sample_std = sample_df[\"Annual Salary\"].std()\n",
    "sample_count = len(sample_df)\n",
    "salaries_sample = np.array([sample_mean,sample_std,sample_count])\n",
    "test_results = ttest_1samp(salaries_sample, 86000)\n",
    "display(test_results.statistic)\n",
    "display(test_results.pvalue/2)\n",
    "\n",
    "if test_results.pvalue/2 > 0.05 and test_results.statistic < 0:\n",
    "    print(\"We failed to reject the null hypothesis so we can't prove that police salaries are higher than $86000/year.\")\n",
    "else:\n",
    "    print(\"We can reject the null hypothesis and conclude that police salaries are higher than $86000/year.\")"
   ]
  },
  {
   "cell_type": "markdown",
   "metadata": {},
   "source": [
    "Using the `crosstab` function, find the department that has the most hourly workers. "
   ]
  },
  {
   "cell_type": "code",
   "execution_count": 9,
   "metadata": {},
   "outputs": [
    {
     "name": "stdout",
     "output_type": "stream",
     "text": [
      "Salary or Hourly       Hourly  Salary\n",
      "Department                           \n",
      "STREETS & SAN            1862     336\n",
      "WATER MGMNT              1513     366\n",
      "OEMC                     1273     829\n",
      "AVIATION                 1082     547\n",
      "GENERAL SERVICES          765     215\n",
      "TRANSPORTN                725     415\n",
      "PUBLIC LIBRARY            299     716\n",
      "FAMILY & SUPPORT          287     328\n",
      "CITY COUNCIL               64     347\n",
      "FINANCE                    44     516\n",
      "LAW                        40     367\n",
      "ANIMAL CONTRL              19      62\n",
      "POLICE                     10   13404\n",
      "MAYOR'S OFFICE              8      77\n",
      "BUSINESS AFFAIRS            7     164\n",
      "CULTURAL AFFAIRS            7      58\n",
      "COMMUNITY DEVELOPMENT       4     203\n",
      "HUMAN RESOURCES             4      75\n",
      "HEALTH                      3     485\n",
      "PROCUREMENT                 2      90\n",
      "FIRE                        2    4639\n",
      "BUDGET & MGMT               2      44\n",
      "HUMAN RELATIONS             0      16\n",
      "INSPECTOR GEN               0      87\n",
      "DoIT                        0      99\n",
      "LICENSE APPL COMM           0       1\n",
      "DISABILITIES                0      28\n",
      "COPA                        0     116\n",
      "CITY CLERK                  0      84\n",
      "POLICE BOARD                0       2\n",
      "BUILDINGS                   0     269\n",
      "BOARD OF ETHICS             0       8\n",
      "BOARD OF ELECTION           0     107\n",
      "TREASURER                   0      22\n",
      "ADMIN HEARNG                0      39\n"
     ]
    }
   ],
   "source": [
    "# Your code here:\n",
    "salaries_crosstab = pd.crosstab(salaries[\"Department\"], \n",
    "                            salaries[\"Salary or Hourly\"],  \n",
    "                               margins = False)\n",
    "\n",
    "salaries_crosstab.sort_values(\"Hourly\", axis = 0, ascending = False,\n",
    "                 inplace = True, na_position ='last')\n",
    "\n",
    "print(salaries_crosstab)"
   ]
  },
  {
   "cell_type": "code",
   "execution_count": 10,
   "metadata": {},
   "outputs": [
    {
     "name": "stdout",
     "output_type": "stream",
     "text": [
      "The department that has the most hourly workers is the STREETS & SAN department\n"
     ]
    }
   ],
   "source": [
    "solution = salaries_crosstab['Hourly'].idxmax()\n",
    "\n",
    "print(f\"The department that has the most hourly workers is the {solution} department\")"
   ]
  },
  {
   "cell_type": "markdown",
   "metadata": {},
   "source": [
    "The workers from the department with the most hourly workers have complained that their hourly wage is less than $35/hour. Using a one sample t-test, test this one-sided hypothesis at the 95% confidence level."
   ]
  },
  {
   "cell_type": "code",
   "execution_count": 11,
   "metadata": {},
   "outputs": [
    {
     "name": "stdout",
     "output_type": "stream",
     "text": [
      "H0 (null hypothesis): hourly wage >= $35/hour\n",
      "HA (alternative hypothesis): hourly wage < $35/hour\n"
     ]
    },
    {
     "name": "stderr",
     "output_type": "stream",
     "text": [
      "/home/veronica/miniconda3/envs/data_env/lib/python3.7/site-packages/ipykernel_launcher.py:7: UserWarning: Boolean Series key will be reindexed to match DataFrame index.\n",
      "  import sys\n"
     ]
    },
    {
     "data": {
      "text/plain": [
       "0.9750524424454252"
      ]
     },
     "metadata": {},
     "output_type": "display_data"
    },
    {
     "data": {
      "text/plain": [
       "0.2161862421599134"
      ]
     },
     "metadata": {},
     "output_type": "display_data"
    },
    {
     "name": "stdout",
     "output_type": "stream",
     "text": [
      "We failed to reject the null hypothesis so we can't prove that hourly wage is less than $35/hour.\n"
     ]
    }
   ],
   "source": [
    "# Your code here:\n",
    "print(\"H0 (null hypothesis): hourly wage >= $35/hour\")\n",
    "print(\"HA (alternative hypothesis): hourly wage < $35/hour\")\n",
    "\n",
    "department_filter = salaries[\"Department\"] == solution \n",
    "hourly_filter = salaries[\"Salary or Hourly\"] == \"Hourly\"\n",
    "sample_df = salaries[department_filter][hourly_filter]\n",
    "\n",
    "sample_mean = sample_df[\"Hourly Rate\"].mean()\n",
    "sample_std = sample_df[\"Hourly Rate\"].std()\n",
    "sample_count = len(sample_df)\n",
    "salaries_sample = np.array([sample_mean,sample_std,sample_count])\n",
    "test_results = ttest_1samp(salaries_sample, 35)\n",
    "display(test_results.statistic)\n",
    "display(test_results.pvalue/2)\n",
    "\n",
    "if test_results.pvalue/2 > 0.05:\n",
    "    print(\"We failed to reject the null hypothesis so we can't prove that hourly wage is less than $35/hour.\")\n",
    "else:\n",
    "    print(\"We can reject the null hypothesis and conclude that hourly wage is less than $35/hour.\")"
   ]
  },
  {
   "cell_type": "markdown",
   "metadata": {},
   "source": [
    "# Challenge 3 - Constructing Confidence Intervals\n",
    "\n",
    "While testing our hypothesis is a great way to gather empirical evidence for accepting or rejecting the hypothesis, another way to gather evidence is by creating a confidence interval. A confidence interval gives us information about the true mean of the population. So for a 95% confidence interval, we are 95% sure that the mean of the population is within the confidence interval. \n",
    ").\n",
    "\n",
    "To read more about confidence intervals, click [here](https://en.wikipedia.org/wiki/Confidence_interval).\n",
    "\n",
    "\n",
    "In the cell below, we will construct a 95% confidence interval for the mean hourly wage of all hourly workers. \n",
    "\n",
    "The confidence interval is computed in SciPy using the `t.interval` function. You can read more about this function [here](https://docs.scipy.org/doc/scipy-0.14.0/reference/generated/scipy.stats.t.html).\n",
    "\n",
    "To compute the confidence interval of the hourly wage, use the 0.95 for the confidence level, number of rows - 1 for degrees of freedom, the mean of the sample for the location parameter and the standard error for the scale. The standard error can be computed using [this](https://docs.scipy.org/doc/scipy/reference/generated/scipy.stats.sem.html) function in SciPy."
   ]
  },
  {
   "cell_type": "code",
   "execution_count": 12,
   "metadata": {},
   "outputs": [
    {
     "data": {
      "text/plain": [
       "(32.52345834488425, 33.05365708767623)"
      ]
     },
     "execution_count": 12,
     "metadata": {},
     "output_type": "execute_result"
    }
   ],
   "source": [
    "# Your code here:\n",
    "import scipy.stats as st\n",
    "\n",
    "hourly_mean = salaries[hourly_filter][\"Hourly Rate\"]\n",
    "\n",
    "st.t.interval(0.95, len(hourly_mean)-1, loc=np.mean(hourly_mean), scale=st.sem(hourly_mean))"
   ]
  },
  {
   "cell_type": "markdown",
   "metadata": {},
   "source": [
    "Now construct the 95% confidence interval for all salaried employeed in the police in the cell below."
   ]
  },
  {
   "cell_type": "code",
   "execution_count": 13,
   "metadata": {},
   "outputs": [
    {
     "name": "stderr",
     "output_type": "stream",
     "text": [
      "/home/veronica/miniconda3/envs/data_env/lib/python3.7/site-packages/ipykernel_launcher.py:3: UserWarning: Boolean Series key will be reindexed to match DataFrame index.\n",
      "  This is separate from the ipykernel package so we can avoid doing imports until\n"
     ]
    },
    {
     "data": {
      "text/plain": [
       "(86177.05631531784, 86795.77269094894)"
      ]
     },
     "execution_count": 13,
     "metadata": {},
     "output_type": "execute_result"
    }
   ],
   "source": [
    "# Your code here:\n",
    "\n",
    "police_salary = salaries[police_filter][salary_filter][\"Annual Salary\"]\n",
    "\n",
    "st.t.interval(0.95, len(police_salary)-1, loc=np.mean(police_salary), scale=st.sem(police_salary))"
   ]
  },
  {
   "cell_type": "markdown",
   "metadata": {},
   "source": [
    "# Challenge 4 - Hypothesis Tests of Proportions\n",
    "\n",
    "Another type of one sample test is a hypothesis test of proportions. In this test, we examine whether the proportion of a group in our sample is significantly different than a fraction. \n",
    "\n",
    "You can read more about one sample proportion tests [here](http://sphweb.bumc.bu.edu/otlt/MPH-Modules/BS/SAS/SAS6-CategoricalData/SAS6-CategoricalData2.html).\n",
    "\n",
    "In the cell below, use the `proportions_ztest` function from `statsmodels` to perform a hypothesis test that will determine whether the number of hourly workers in the City of Chicago is significantly different from 25% at the 95% confidence level."
   ]
  },
  {
   "cell_type": "code",
   "execution_count": 14,
   "metadata": {},
   "outputs": [
    {
     "name": "stdout",
     "output_type": "stream",
     "text": [
      "H0 (null hypothesis): The number of hourly workers is NOT significantly different from 25%. Hourly workers = 25%\n",
      "HA (alternative hypothesis): The number of hourly workers is significantly different from 25%. Hourly workers =! 25%\n",
      "p-value is 0.0004481127249057967\n",
      "Conclusion: We can reject the null hypothesis.\n"
     ]
    }
   ],
   "source": [
    "# Your code here:\n",
    "\n",
    "from statsmodels.stats.proportion import proportions_ztest\n",
    "\n",
    "print(\"H0 (null hypothesis): The number of hourly workers is NOT significantly different from 25%. Hourly workers = 25%\")\n",
    "print(\"HA (alternative hypothesis): The number of hourly workers is significantly different from 25%. Hourly workers =! 25%\")\n",
    "\n",
    "nobs = len(salaries[\"Salary or Hourly\"])\n",
    "count = len(salaries[hourly_filter])\n",
    "value = 0.25\n",
    "stat, pval = proportions_ztest(count, nobs, value)\n",
    "print(f'p-value is {pval}')\n",
    "\n",
    "if pval > 0.05:\n",
    "    print(\"Conclusion: We fail to reject the null hypothesis so no significance difference was detected.\")\n",
    "else:\n",
    "    print(\"Conclusion: We can reject the null hypothesis.\")"
   ]
  }
 ],
 "metadata": {
  "kernelspec": {
   "display_name": "Python [conda env:data_env]",
   "language": "python",
   "name": "conda-env-data_env-py"
  },
  "language_info": {
   "codemirror_mode": {
    "name": "ipython",
    "version": 3
   },
   "file_extension": ".py",
   "mimetype": "text/x-python",
   "name": "python",
   "nbconvert_exporter": "python",
   "pygments_lexer": "ipython3",
   "version": "3.7.5"
  }
 },
 "nbformat": 4,
 "nbformat_minor": 4
}
